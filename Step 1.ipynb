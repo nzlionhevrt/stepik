{
 "cells": [
  {
   "cell_type": "markdown",
   "metadata": {},
   "source": [
    "# Задание 1"
   ]
  },
  {
   "cell_type": "code",
   "execution_count": 2,
   "metadata": {},
   "outputs": [],
   "source": [
    "from urllib.request import urlopen"
   ]
  },
  {
   "cell_type": "code",
   "execution_count": 3,
   "metadata": {},
   "outputs": [
    {
     "name": "stdout",
     "output_type": "stream",
     "text": [
      "<class 'str'>\n"
     ]
    }
   ],
   "source": [
    "html = urlopen('https://stepik.org/media/attachments/lesson/209717/1.html').read().decode('utf-8')\n",
    "print(type(html))"
   ]
  },
  {
   "cell_type": "code",
   "execution_count": 4,
   "metadata": {},
   "outputs": [
    {
     "name": "stdout",
     "output_type": "stream",
     "text": [
      "17 3\n"
     ]
    }
   ],
   "source": [
    "print(html.count('C++'), html.count('Python'))"
   ]
  },
  {
   "cell_type": "markdown",
   "metadata": {},
   "source": [
    "# Задание 2"
   ]
  },
  {
   "cell_type": "code",
   "execution_count": 52,
   "metadata": {},
   "outputs": [],
   "source": [
    "from bs4 import BeautifulSoup\n",
    "from collections import Counter\n",
    "\n",
    "# функция для подсчета вхождений каждого элемента в список\n",
    "def Most_Common(lst):\n",
    "    data = Counter(lst)\n",
    "    return data.most_common(3)\n",
    "\n",
    "\n",
    "url = 'https://stepik.org/media/attachments/lesson/209719/2.html'\n",
    "html = urlopen(url).read().decode('utf-8')\n",
    "\n",
    "soup = BeautifulSoup(html, 'html.parser')"
   ]
  },
  {
   "cell_type": "code",
   "execution_count": 60,
   "metadata": {},
   "outputs": [],
   "source": [
    "#ищем все теги code\n",
    "lines = soup.find_all('code')\n",
    "func = lambda x: x.string\n",
    "#очищаем строки, ибо нужно лишь то, что внутри тегов\n",
    "clear = list(map(func, lines))\n",
    "#смотрите выше\n",
    "most_common = Most_Common(clear)"
   ]
  },
  {
   "cell_type": "code",
   "execution_count": 62,
   "metadata": {},
   "outputs": [
    {
     "name": "stdout",
     "output_type": "stream",
     "text": [
      "else except finally "
     ]
    }
   ],
   "source": [
    "#вывод\n",
    "for line in sorted(most_common):\n",
    "    print(line[0], end=' ')"
   ]
  },
  {
   "cell_type": "markdown",
   "metadata": {},
   "source": [
    "# Задание 3"
   ]
  },
  {
   "cell_type": "code",
   "execution_count": 63,
   "metadata": {},
   "outputs": [
    {
     "name": "stdout",
     "output_type": "stream",
     "text": [
      "94596065609609271052308\n"
     ]
    }
   ],
   "source": [
    "from urllib.request import urlopen, urlretrieve\n",
    "from bs4 import BeautifulSoup\n",
    "\n",
    "resp = urlopen('https://stepik.org/media/attachments/lesson/245130/6.html') # скачиваем файл\n",
    "html = resp.read().decode('utf8') # считываем содержимое\n",
    "soup = BeautifulSoup(html, 'html.parser') # делаем суп\n",
    "table = soup.find('table', attrs = {'class' : 'wikitable sortable'})\n",
    "cnt = 0\n",
    "for tr in soup.find_all('tr'):\n",
    "    cnt += 1\n",
    "    for td in tr.find_all(['td', 'th']):\n",
    "        cnt *= 2\n",
    "print(cnt)"
   ]
  }
 ],
 "metadata": {
  "kernelspec": {
   "display_name": "Python 3",
   "language": "python",
   "name": "python3"
  },
  "language_info": {
   "codemirror_mode": {
    "name": "ipython",
    "version": 3
   },
   "file_extension": ".py",
   "mimetype": "text/x-python",
   "name": "python",
   "nbconvert_exporter": "python",
   "pygments_lexer": "ipython3",
   "version": "3.7.3"
  }
 },
 "nbformat": 4,
 "nbformat_minor": 2
}
